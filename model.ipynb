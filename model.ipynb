{
 "cells": [
  {
   "cell_type": "markdown",
   "metadata": {},
   "source": [
    "Compréhension du Problème :\n",
    "On travaille sur un problème de régression, car on essaye de prédire une valeur numérique continue 'SiteEnergyUse(kBtu)', 'TotalGHGEmissions' à partir de caractéristiques de bâtiments."
   ]
  },
  {
   "cell_type": "markdown",
   "metadata": {},
   "source": [
    "# Import"
   ]
  },
  {
   "cell_type": "code",
   "execution_count": 13,
   "metadata": {},
   "outputs": [],
   "source": [
    "import pandas as pd\n",
    "from sklearn.pipeline import Pipeline\n",
    "from sklearn.preprocessing import StandardScaler, OneHotEncoder\n",
    "from sklearn.compose import ColumnTransformer\n",
    "from sklearn.model_selection import train_test_split\n",
    "from sklearn.model_selection import GridSearchCV\n",
    "from sklearn.linear_model import LinearRegression\n",
    "from sklearn.ensemble import RandomForestRegressor\n",
    "from sklearn.metrics import mean_squared_error, r2_score"
   ]
  },
  {
   "cell_type": "markdown",
   "metadata": {},
   "source": [
    "# Data"
   ]
  },
  {
   "cell_type": "code",
   "execution_count": 14,
   "metadata": {},
   "outputs": [],
   "source": [
    "data = pd.read_csv('data_saved.csv')"
   ]
  },
  {
   "cell_type": "markdown",
   "metadata": {},
   "source": [
    "Créez une liste de caractéristiques continues et catégorielles :\n",
    "Cela  aidera à différencier quelles caractéristiques nécessitent un traitement."
   ]
  },
  {
   "cell_type": "code",
   "execution_count": 15,
   "metadata": {},
   "outputs": [],
   "source": [
    "features_continuous = ['PropertyGFATotal', 'SiteEnergyUse(kBtu)']\n",
    "features_categorical = ['BuildingType', 'PrimaryPropertyType']"
   ]
  },
  {
   "cell_type": "markdown",
   "metadata": {},
   "source": [
    "Les étapes de prétraitement :\n",
    "Pour les caractéristiques continues, StandardScaler pour les normaliser (centrer et réduire).\n",
    "Pour les caractéristiques catégorielles, OneHotEncoder pour effectuer le one-hot encoding."
   ]
  },
  {
   "cell_type": "code",
   "execution_count": 16,
   "metadata": {},
   "outputs": [],
   "source": [
    "preprocessor = ColumnTransformer(\n",
    "    transformers=[\n",
    "        ('num', StandardScaler(), features_continuous),\n",
    "        ('cat', OneHotEncoder(drop='first'), features_categorical)\n",
    "    ])"
   ]
  },
  {
   "cell_type": "markdown",
   "metadata": {},
   "source": [
    "Créez un pipeline complet :\n",
    "En utilisant Pipeline, combinter le préprocesseur avec le modèle d'apprentissage supervisé. Voici un exemple pour une régression linéaire :"
   ]
  },
  {
   "cell_type": "code",
   "execution_count": 17,
   "metadata": {},
   "outputs": [],
   "source": [
    "from sklearn.linear_model import LinearRegression\n",
    "\n",
    "model = LinearRegression()\n",
    "\n",
    "pipeline = Pipeline([\n",
    "    ('preprocessor', preprocessor),\n",
    "    ('model', model)\n",
    "])"
   ]
  },
  {
   "cell_type": "markdown",
   "metadata": {},
   "source": [
    "Caractéristiques (X) et votre variable cible (y) :\n",
    "La variable cible est \"SiteEnergyUse(kBtu)\"."
   ]
  },
  {
   "cell_type": "code",
   "execution_count": 18,
   "metadata": {},
   "outputs": [],
   "source": [
    "# Vous devez définir les colonnes qui seront utilisées comme caractéristiques et cibles\n",
    "features = ['PropertyGFATotal', 'ENERGYSTARScore', 'BuildingAge']  # Remplacez par les noms des colonnes que vous voulez utiliser comme caractéristiques\n",
    "target_energy = 'SiteEnergyUse(kBtu)'  # Colonne cible pour la consommation d'énergie\n",
    "target_emissions = 'TotalGHGEmissions'  # Colonne cible pour les émissions de CO2\n",
    "\n",
    "X = data[features]  # Sélectionnez les caractéristiques\n",
    "Y_energy = data[target_energy]  # Sélectionnez la cible pour la consommation d'énergie\n",
    "Y_emissions = data[target_emissions]  # Sélectionnez la cible pour les émissions de CO2\n",
    "\n",
    "# Fractionnement des données en ensembles d'entraînement (train) et de test (test)\n",
    "# Utilisez train_test_split pour répartir les données en 80 % pour l'entraînement et 20 % pour les tests\n",
    "X_train, X_test, Y_energy_train, Y_energy_test, Y_emissions_train, Y_emissions_test = train_test_split(\n",
    "    X, Y_energy, Y_emissions, test_size=0.2, random_state=42)  # Vous pouvez ajuster le test_size et le random_state\n",
    "\n",
    "# Maintenant, X_train contient les caractéristiques d'entraînement, Y_energy_train contient les cibles d'énergie d'entraînement,\n",
    "# et Y_emissions_train contient les cibles d'émissions d'entraînement.\n",
    "# De même, X_test, Y_energy_test et Y_emissions_test contiennent les données de test correspondantes."
   ]
  },
  {
   "cell_type": "code",
   "execution_count": 19,
   "metadata": {},
   "outputs": [
    {
     "data": {
      "text/plain": [
       "(1665, 31)"
      ]
     },
     "execution_count": 19,
     "metadata": {},
     "output_type": "execute_result"
    }
   ],
   "source": [
    "data = data.select_dtypes(include=['number'])  # Sélectionnez uniquement les colonnes numériques # Supprime les échantillons contenant des valeurs manquantes\n",
    "\n",
    "data.shape"
   ]
  }
 ],
 "metadata": {
  "kernelspec": {
   "display_name": "base",
   "language": "python",
   "name": "python3"
  },
  "language_info": {
   "codemirror_mode": {
    "name": "ipython",
    "version": 3
   },
   "file_extension": ".py",
   "mimetype": "text/x-python",
   "name": "python",
   "nbconvert_exporter": "python",
   "pygments_lexer": "ipython3",
   "version": "3.10.9"
  },
  "orig_nbformat": 4
 },
 "nbformat": 4,
 "nbformat_minor": 2
}
