{
 "cells": [
  {
   "cell_type": "markdown",
   "metadata": {},
   "source": [
    "Compréhension du Problème :\n",
    "On travaille sur un problème de régression, car on essaye de prédire une valeur numérique continue 'SiteEnergyUse(kBtu)', 'TotalGHGEmissions' à partir de caractéristiques de bâtiments."
   ]
  },
  {
   "cell_type": "markdown",
   "metadata": {},
   "source": [
    "# Import"
   ]
  },
  {
   "cell_type": "code",
   "execution_count": 1,
   "metadata": {},
   "outputs": [],
   "source": [
    "import pandas as pd\n",
    "from sklearn.pipeline import Pipeline\n",
    "from sklearn.preprocessing import StandardScaler, OneHotEncoder\n",
    "from sklearn.compose import ColumnTransformer\n",
    "from sklearn.model_selection import train_test_split\n",
    "from sklearn.model_selection import GridSearchCV\n",
    "from sklearn.linear_model import LinearRegression\n",
    "from sklearn.ensemble import RandomForestRegressor\n",
    "from sklearn.metrics import mean_squared_error, r2_score"
   ]
  },
  {
   "cell_type": "markdown",
   "metadata": {},
   "source": [
    "# Data"
   ]
  },
  {
   "cell_type": "code",
   "execution_count": 2,
   "metadata": {},
   "outputs": [],
   "source": [
    "data = pd.read_csv('data_saved.csv')"
   ]
  },
  {
   "cell_type": "markdown",
   "metadata": {},
   "source": [
    "Créez une liste de caractéristiques continues et catégorielles :\n",
    "Cela  aidera à différencier quelles caractéristiques nécessitent un traitement."
   ]
  },
  {
   "cell_type": "code",
   "execution_count": 3,
   "metadata": {},
   "outputs": [],
   "source": [
    "features_continuous = ['PropertyGFATotal', 'SiteEnergyUse(kBtu)']\n",
    "features_categorical = ['BuildingType', 'PrimaryPropertyType']"
   ]
  },
  {
   "cell_type": "markdown",
   "metadata": {},
   "source": [
    "Les étapes de prétraitement :\n",
    "Pour les caractéristiques continues, StandardScaler pour les normaliser (centrer et réduire).\n",
    "Pour les caractéristiques catégorielles, OneHotEncoder pour effectuer le one-hot encoding."
   ]
  },
  {
   "cell_type": "code",
   "execution_count": 4,
   "metadata": {},
   "outputs": [],
   "source": [
    "preprocessor = ColumnTransformer(\n",
    "    transformers=[\n",
    "        ('num', StandardScaler(), features_continuous),\n",
    "        ('cat', OneHotEncoder(drop='first'), features_categorical)\n",
    "    ])"
   ]
  },
  {
   "cell_type": "markdown",
   "metadata": {},
   "source": [
    "Créez un pipeline complet :\n",
    "En utilisant Pipeline, combinter le préprocesseur avec le modèle d'apprentissage supervisé. Voici un exemple pour une régression linéaire :"
   ]
  },
  {
   "cell_type": "code",
   "execution_count": 5,
   "metadata": {},
   "outputs": [],
   "source": [
    "from sklearn.linear_model import LinearRegression\n",
    "\n",
    "model = LinearRegression()\n",
    "\n",
    "pipeline = Pipeline([\n",
    "    ('preprocessor', preprocessor),\n",
    "    ('model', model)\n",
    "])"
   ]
  },
  {
   "cell_type": "markdown",
   "metadata": {},
   "source": [
    "Caractéristiques (X) et votre variable cible (y) :\n",
    "La variable cible est \"SiteEnergyUse(kBtu)\"."
   ]
  },
  {
   "cell_type": "code",
   "execution_count": 6,
   "metadata": {},
   "outputs": [],
   "source": [
    "# Vous devez définir les colonnes qui seront utilisées comme caractéristiques et cibles\n",
    "features = ['PropertyGFATotal', 'PrimaryPropertyType', 'ENERGYSTARScore', 'BuildingAge']  # Remplacez par les noms des colonnes que vous voulez utiliser comme caractéristiques\n",
    "target_energy = 'SiteEnergyUse(kBtu)'  # Colonne cible pour la consommation d'énergie\n",
    "target_emissions = 'TotalGHGEmissions'  # Colonne cible pour les émissions de CO2\n",
    "\n",
    "X = data[features]  # Sélectionnez les caractéristiques\n",
    "Y_energy = data[target_energy]  # Sélectionnez la cible pour la consommation d'énergie\n",
    "Y_emissions = data[target_emissions]  # Sélectionnez la cible pour les émissions de CO2\n",
    "\n",
    "# Fractionnement des données en ensembles d'entraînement (train) et de test (test)\n",
    "# Utilisez train_test_split pour répartir les données en 80 % pour l'entraînement et 20 % pour les tests\n",
    "X_train, X_test, Y_energy_train, Y_energy_test, Y_emissions_train, Y_emissions_test = train_test_split(\n",
    "    X, Y_energy, Y_emissions, test_size=0.2, random_state=42)  # Vous pouvez ajuster le test_size et le random_state\n",
    "\n",
    "# Maintenant, X_train contient les caractéristiques d'entraînement, Y_energy_train contient les cibles d'énergie d'entraînement,\n",
    "# et Y_emissions_train contient les cibles d'émissions d'entraînement.\n",
    "# De même, X_test, Y_energy_test et Y_emissions_test contiennent les données de test correspondantes."
   ]
  },
  {
   "cell_type": "code",
   "execution_count": 16,
   "metadata": {},
   "outputs": [
    {
     "ename": "ValueError",
     "evalue": "With n_samples=0, test_size=0.2 and train_size=0.8, the resulting train set will be empty. Adjust any of the aforementioned parameters.",
     "output_type": "error",
     "traceback": [
      "\u001b[0;31m---------------------------------------------------------------------------\u001b[0m",
      "\u001b[0;31mValueError\u001b[0m                                Traceback (most recent call last)",
      "Cell \u001b[0;32mIn[16], line 10\u001b[0m\n\u001b[1;32m      7\u001b[0m y_energy \u001b[39m=\u001b[39m data[\u001b[39m'\u001b[39m\u001b[39mSiteEnergyUse(kBtu)\u001b[39m\u001b[39m'\u001b[39m]  \u001b[39m# La cible pour la consommation d'énergie\u001b[39;00m\n\u001b[1;32m      8\u001b[0m y_ghg \u001b[39m=\u001b[39m data[\u001b[39m'\u001b[39m\u001b[39mTotalGHGEmissions\u001b[39m\u001b[39m'\u001b[39m]  \u001b[39m# La cible pour les émissions de CO2\u001b[39;00m\n\u001b[0;32m---> 10\u001b[0m X_train, X_test, y_energy_train, y_energy_test, y_ghg_train, y_ghg_test \u001b[39m=\u001b[39m train_test_split(\n\u001b[1;32m     11\u001b[0m     X, y_energy, y_ghg, test_size\u001b[39m=\u001b[39;49m\u001b[39m0.2\u001b[39;49m, train_size\u001b[39m=\u001b[39;49m\u001b[39m0.8\u001b[39;49m, random_state\u001b[39m=\u001b[39;49m\u001b[39m42\u001b[39;49m\n\u001b[1;32m     12\u001b[0m )\n\u001b[1;32m     13\u001b[0m \u001b[39m# Créez et entraînez un modèle de régression linéaire pour la consommation d'énergie\u001b[39;00m\n\u001b[1;32m     14\u001b[0m lr_energy \u001b[39m=\u001b[39m LinearRegression()\n",
      "File \u001b[0;32m~/anaconda3/lib/python3.10/site-packages/sklearn/model_selection/_split.py:2562\u001b[0m, in \u001b[0;36mtrain_test_split\u001b[0;34m(test_size, train_size, random_state, shuffle, stratify, *arrays)\u001b[0m\n\u001b[1;32m   2559\u001b[0m arrays \u001b[39m=\u001b[39m indexable(\u001b[39m*\u001b[39marrays)\n\u001b[1;32m   2561\u001b[0m n_samples \u001b[39m=\u001b[39m _num_samples(arrays[\u001b[39m0\u001b[39m])\n\u001b[0;32m-> 2562\u001b[0m n_train, n_test \u001b[39m=\u001b[39m _validate_shuffle_split(\n\u001b[1;32m   2563\u001b[0m     n_samples, test_size, train_size, default_test_size\u001b[39m=\u001b[39;49m\u001b[39m0.25\u001b[39;49m\n\u001b[1;32m   2564\u001b[0m )\n\u001b[1;32m   2566\u001b[0m \u001b[39mif\u001b[39;00m shuffle \u001b[39mis\u001b[39;00m \u001b[39mFalse\u001b[39;00m:\n\u001b[1;32m   2567\u001b[0m     \u001b[39mif\u001b[39;00m stratify \u001b[39mis\u001b[39;00m \u001b[39mnot\u001b[39;00m \u001b[39mNone\u001b[39;00m:\n",
      "File \u001b[0;32m~/anaconda3/lib/python3.10/site-packages/sklearn/model_selection/_split.py:2236\u001b[0m, in \u001b[0;36m_validate_shuffle_split\u001b[0;34m(n_samples, test_size, train_size, default_test_size)\u001b[0m\n\u001b[1;32m   2233\u001b[0m n_train, n_test \u001b[39m=\u001b[39m \u001b[39mint\u001b[39m(n_train), \u001b[39mint\u001b[39m(n_test)\n\u001b[1;32m   2235\u001b[0m \u001b[39mif\u001b[39;00m n_train \u001b[39m==\u001b[39m \u001b[39m0\u001b[39m:\n\u001b[0;32m-> 2236\u001b[0m     \u001b[39mraise\u001b[39;00m \u001b[39mValueError\u001b[39;00m(\n\u001b[1;32m   2237\u001b[0m         \u001b[39m\"\u001b[39m\u001b[39mWith n_samples=\u001b[39m\u001b[39m{}\u001b[39;00m\u001b[39m, test_size=\u001b[39m\u001b[39m{}\u001b[39;00m\u001b[39m and train_size=\u001b[39m\u001b[39m{}\u001b[39;00m\u001b[39m, the \u001b[39m\u001b[39m\"\u001b[39m\n\u001b[1;32m   2238\u001b[0m         \u001b[39m\"\u001b[39m\u001b[39mresulting train set will be empty. Adjust any of the \u001b[39m\u001b[39m\"\u001b[39m\n\u001b[1;32m   2239\u001b[0m         \u001b[39m\"\u001b[39m\u001b[39maforementioned parameters.\u001b[39m\u001b[39m\"\u001b[39m\u001b[39m.\u001b[39mformat(n_samples, test_size, train_size)\n\u001b[1;32m   2240\u001b[0m     )\n\u001b[1;32m   2242\u001b[0m \u001b[39mreturn\u001b[39;00m n_train, n_test\n",
      "\u001b[0;31mValueError\u001b[0m: With n_samples=0, test_size=0.2 and train_size=0.8, the resulting train set will be empty. Adjust any of the aforementioned parameters."
     ]
    }
   ],
   "source": [
    "data = data.select_dtypes(include=['number'])  # Sélectionnez uniquement les colonnes numériques\n",
    "data = data.dropna()  # Supprime les échantillons contenant des valeurs manquantes\n",
    "\n",
    "\n",
    "# Séparez les données en ensembles d'entraînement et de test\n",
    "X = data.drop(['SiteEnergyUse(kBtu)', 'TotalGHGEmissions'], axis=1)  # Les caractéristiques (features)\n",
    "y_energy = data['SiteEnergyUse(kBtu)']  # La cible pour la consommation d'énergie\n",
    "y_ghg = data['TotalGHGEmissions']  # La cible pour les émissions de CO2\n",
    "\n",
    "X_train, X_test, y_energy_train, y_energy_test, y_ghg_train, y_ghg_test = train_test_split(\n",
    "    X, y_energy, y_ghg, test_size=0.2, train_size=0.8, random_state=42\n",
    ")\n",
    "# Créez et entraînez un modèle de régression linéaire pour la consommation d'énergie\n",
    "lr_energy = LinearRegression()\n",
    "lr_energy.fit(X_train, y_energy_train)\n",
    "\n",
    "# Prédisez les valeurs pour la consommation d'énergie sur l'ensemble de test\n",
    "y_energy_pred = lr_energy.predict(X_test)\n",
    "\n",
    "# Évaluez les performances du modèle de régression linéaire pour la consommation d'énergie\n",
    "mse_energy = mean_squared_error(y_energy_test, y_energy_pred)\n",
    "r2_energy = r2_score(y_energy_test, y_energy_pred)\n",
    "\n",
    "print(\"Régression Linéaire - Consommation d'énergie\")\n",
    "print(f\"MSE : {mse_energy}\")\n",
    "print(f\"R-squared : {r2_energy}\")\n",
    "\n",
    "# Créez et entraînez un modèle de régression linéaire pour les émissions de CO2\n",
    "lr_ghg = LinearRegression()\n",
    "lr_ghg.fit(X_train, y_ghg_train)\n",
    "\n",
    "# Prédisez les valeurs pour les émissions de CO2 sur l'ensemble de test\n",
    "y_ghg_pred = lr_ghg.predict(X_test)\n",
    "\n",
    "# Évaluez les performances du modèle de régression linéaire pour les émissions de CO2\n",
    "mse_ghg = mean_squared_error(y_ghg_test, y_ghg_pred)\n",
    "r2_ghg = r2_score(y_ghg_test, y_ghg_pred)\n",
    "\n",
    "print(\"\\nRégression Linéaire - Émissions de CO2\")\n",
    "print(f\"MSE : {mse_ghg}\")\n",
    "print(f\"R-squared : {r2_ghg}\")"
   ]
  }
 ],
 "metadata": {
  "kernelspec": {
   "display_name": "base",
   "language": "python",
   "name": "python3"
  },
  "language_info": {
   "codemirror_mode": {
    "name": "ipython",
    "version": 3
   },
   "file_extension": ".py",
   "mimetype": "text/x-python",
   "name": "python",
   "nbconvert_exporter": "python",
   "pygments_lexer": "ipython3",
   "version": "3.10.9"
  },
  "orig_nbformat": 4
 },
 "nbformat": 4,
 "nbformat_minor": 2
}
